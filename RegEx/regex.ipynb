{
 "cells": [
  {
   "cell_type": "code",
   "execution_count": 1,
   "id": "0f4ecc51",
   "metadata": {},
   "outputs": [],
   "source": [
    "import re"
   ]
  },
  {
   "cell_type": "code",
   "execution_count": 2,
   "id": "f6841151",
   "metadata": {},
   "outputs": [],
   "source": [
    "t = 's'\n",
    "t = 'visionnlp'\n",
    "t = 'i love nlp.'"
   ]
  },
  {
   "cell_type": "markdown",
   "id": "a47ab4ad",
   "metadata": {},
   "source": [
    "# search "
   ]
  },
  {
   "cell_type": "markdown",
   "id": "e7e89899",
   "metadata": {},
   "source": [
    "- The re.search() method takes a regular expression pattern and a string and searches for that pattern within the string. If the search is successful, search() returns a match object or None otherwise. "
   ]
  },
  {
   "cell_type": "code",
   "execution_count": 3,
   "id": "21c7485c",
   "metadata": {},
   "outputs": [
    {
     "data": {
      "text/plain": [
       "<re.Match object; span=(6, 9), match='90%'>"
      ]
     },
     "execution_count": 3,
     "metadata": {},
     "output_type": "execute_result"
    }
   ],
   "source": [
    "# search \n",
    "text = 'I got 90% marks in nlp assignment. I lost 10 because of regex.'\n",
    "pat = r'\\d+%'\n",
    "\n",
    "match = re.search(pat, text)\n",
    "match"
   ]
  },
  {
   "cell_type": "code",
   "execution_count": 4,
   "id": "b3976e41",
   "metadata": {},
   "outputs": [
    {
     "data": {
      "text/plain": [
       "'90%'"
      ]
     },
     "execution_count": 4,
     "metadata": {},
     "output_type": "execute_result"
    }
   ],
   "source": [
    "match.group(0)"
   ]
  },
  {
   "cell_type": "code",
   "execution_count": 5,
   "id": "ea575286",
   "metadata": {},
   "outputs": [
    {
     "name": "stdout",
     "output_type": "stream",
     "text": [
      "found word:cat\n"
     ]
    }
   ],
   "source": [
    "import re\n",
    "str = 'an example word:cat!!'\n",
    "match = re.search(r'word:\\w+', str)\n",
    "if match:\n",
    "    print('found', match.group())\n",
    "else:\n",
    "    print('did not find')"
   ]
  },
  {
   "cell_type": "markdown",
   "id": "1708ac81",
   "metadata": {},
   "source": [
    "The code `match = re.search(pat, str)` stores the search result in a variable named match. Then the if-statement tests the match -- if true the search succeeded and `match.group()` is the matching text (e.g. 'word:cat'). Otherwise if the match is false (None to be more specific), then the search did not succeed, and there is no matching text.\n",
    "\n",
    "The `'r'` at the start of the pattern string designates a python \"raw\" string which passes through backslashes without change which is very handy for regular expressions. I recommend that you always write pattern strings with the `'r'` just as a habit."
   ]
  },
  {
   "cell_type": "code",
   "execution_count": 6,
   "id": "d32594cc",
   "metadata": {},
   "outputs": [
    {
     "data": {
      "text/plain": [
       "'iii'"
      ]
     },
     "execution_count": 6,
     "metadata": {},
     "output_type": "execute_result"
    }
   ],
   "source": [
    "## Search for pattern 'iii' in string 'piiig'.\n",
    "## All of the pattern must match, but it may appear anywhere.\n",
    "## On success, match.group() is matched text.\n",
    "match = re.search(r'iii', 'piiig')\n",
    "match.group()"
   ]
  },
  {
   "cell_type": "code",
   "execution_count": 7,
   "id": "4f91debd",
   "metadata": {},
   "outputs": [
    {
     "name": "stdout",
     "output_type": "stream",
     "text": [
      "None\n"
     ]
    }
   ],
   "source": [
    "match = re.search(r'igs', 'piiig')\n",
    "print(match)"
   ]
  },
  {
   "cell_type": "code",
   "execution_count": 8,
   "id": "cbd567a5",
   "metadata": {},
   "outputs": [
    {
     "name": "stdout",
     "output_type": "stream",
     "text": [
      "<re.Match object; span=(2, 5), match='iig'>\n"
     ]
    }
   ],
   "source": [
    "## . = any char but \\n\n",
    "match = re.search(r'..g', 'piiig')\n",
    "print(match)"
   ]
  },
  {
   "cell_type": "code",
   "execution_count": 9,
   "id": "c4602457",
   "metadata": {},
   "outputs": [
    {
     "data": {
      "text/plain": [
       "'12'"
      ]
     },
     "execution_count": 9,
     "metadata": {},
     "output_type": "execute_result"
    }
   ],
   "source": [
    "## \\d = digit char, \\w = word char\n",
    "match = re.search(r'\\d{2}', 'p123g') # \\d\\d or \\d{2}, for all the degits \\d+\n",
    "match.group()"
   ]
  },
  {
   "cell_type": "code",
   "execution_count": 10,
   "id": "a07e958e",
   "metadata": {},
   "outputs": [
    {
     "data": {
      "text/plain": [
       "'abc'"
      ]
     },
     "execution_count": 10,
     "metadata": {},
     "output_type": "execute_result"
    }
   ],
   "source": [
    "match = re.search(r'\\w\\w\\w', '@@abcd!!')\n",
    "match.group()"
   ]
  },
  {
   "cell_type": "markdown",
   "id": "537f2f74",
   "metadata": {},
   "source": [
    "Repetition\n",
    "Things get more interesting when you use `+` and `*` to specify repetition in the pattern\n",
    "\n",
    "`+` -- 1 or more occurrences of the pattern to its left, e.g. 'i+' = one or more i's\n",
    "\n",
    "`*` -- 0 or more occurrences of the pattern to its left\n",
    "\n",
    "`?` -- match 0 or 1 occurrences of the pattern to its left"
   ]
  },
  {
   "cell_type": "code",
   "execution_count": 11,
   "id": "31c850fd",
   "metadata": {},
   "outputs": [
    {
     "data": {
      "text/plain": [
       "<re.Match object; span=(0, 4), match='piii'>"
      ]
     },
     "execution_count": 11,
     "metadata": {},
     "output_type": "execute_result"
    }
   ],
   "source": [
    "## i+ = one or more i's, as many as possible.\n",
    "match = re.search(r'pi+', 'piiig')\n",
    "match"
   ]
  },
  {
   "cell_type": "code",
   "execution_count": 12,
   "id": "e0914bbd",
   "metadata": {},
   "outputs": [
    {
     "data": {
      "text/plain": [
       "<re.Match object; span=(1, 3), match='ii'>"
      ]
     },
     "execution_count": 12,
     "metadata": {},
     "output_type": "execute_result"
    }
   ],
   "source": [
    "## Finds the first/leftmost solution, and within it drives the +\n",
    "## as far as possible (aka 'leftmost and largest').\n",
    "## In this example, note that it does not get to the second set of i's.\n",
    "match = re.search(r'i+', 'piigiiii')\n",
    "match"
   ]
  },
  {
   "cell_type": "code",
   "execution_count": 13,
   "id": "337339f2",
   "metadata": {},
   "outputs": [
    {
     "data": {
      "text/plain": [
       "<re.Match object; span=(2, 9), match='1 2   3'>"
      ]
     },
     "execution_count": 13,
     "metadata": {},
     "output_type": "execute_result"
    }
   ],
   "source": [
    "## \\s* = zero or more whitespace chars\n",
    "## Here look for 3 digits, possibly separated by whitespace.\n",
    "match = re.search(r'\\d\\s*\\d\\s*\\d', 'xx1 2   3xx')\n",
    "match"
   ]
  },
  {
   "cell_type": "code",
   "execution_count": 14,
   "id": "08affb34",
   "metadata": {},
   "outputs": [
    {
     "data": {
      "text/plain": [
       "<re.Match object; span=(2, 7), match='12  3'>"
      ]
     },
     "execution_count": 14,
     "metadata": {},
     "output_type": "execute_result"
    }
   ],
   "source": [
    "match = re.search(r'\\d\\s*\\d\\s*\\d', 'xx12  3xx')\n",
    "match"
   ]
  },
  {
   "cell_type": "code",
   "execution_count": 15,
   "id": "b3199e64",
   "metadata": {},
   "outputs": [
    {
     "data": {
      "text/plain": [
       "<re.Match object; span=(2, 5), match='123'>"
      ]
     },
     "execution_count": 15,
     "metadata": {},
     "output_type": "execute_result"
    }
   ],
   "source": [
    "match = re.search(r'\\d\\s*\\d\\s*\\d', 'xx123xx')\n",
    "match"
   ]
  },
  {
   "cell_type": "code",
   "execution_count": 16,
   "id": "53b29d93",
   "metadata": {},
   "outputs": [],
   "source": [
    "## ^ = matches the start of string, so this fails:\n",
    "match = re.search(r'^b\\w+', 'foobar')\n",
    "match"
   ]
  },
  {
   "cell_type": "code",
   "execution_count": 17,
   "id": "72f70d53",
   "metadata": {},
   "outputs": [
    {
     "data": {
      "text/plain": [
       "<re.Match object; span=(3, 6), match='bar'>"
      ]
     },
     "execution_count": 17,
     "metadata": {},
     "output_type": "execute_result"
    }
   ],
   "source": [
    "## but without the ^ it succeeds:\n",
    "match = re.search(r'b\\w+', 'foobar')\n",
    "match"
   ]
  },
  {
   "cell_type": "markdown",
   "id": "e9e80e07",
   "metadata": {},
   "source": [
    "# Extract emails"
   ]
  },
  {
   "cell_type": "code",
   "execution_count": 18,
   "id": "e1d0a975",
   "metadata": {},
   "outputs": [
    {
     "name": "stdout",
     "output_type": "stream",
     "text": [
      "shwet@gmail\n"
     ]
    }
   ],
   "source": [
    "import re\n",
    "str = 'my email is nlp.shwet@gmail.com.'\n",
    "match = re.search(r'\\w+@\\w+', str)\n",
    "if match:\n",
    "    print(match.group())"
   ]
  },
  {
   "cell_type": "markdown",
   "id": "cd99c276",
   "metadata": {},
   "source": [
    "### Square Brackets\n",
    "Square brackets can be used to indicate a set of chars, so `[abc]` matches `'a'` or `'b'` or `'c'`. The codes `\\w`, `\\s` etc. work inside square brackets too with the one exception that dot `(.)` just means a literal dot. \n",
    "\n",
    "For the emails problem, the square brackets are an easy way to add `.` and `-` to the set of chars which can appear around the @ with the pattern `r'[\\w.-]+@[\\w.-]+'` to get the whole email address:"
   ]
  },
  {
   "cell_type": "code",
   "execution_count": 19,
   "id": "02178fce",
   "metadata": {},
   "outputs": [
    {
     "name": "stdout",
     "output_type": "stream",
     "text": [
      "nlp.shwet@gmail.com\n"
     ]
    }
   ],
   "source": [
    "import re\n",
    "str = 'my email is nlp.shwet@gmail.com'\n",
    "match = re.search(r'[\\w.-]+@[\\w.-]+', str)\n",
    "if match:\n",
    "    print(match.group())"
   ]
  },
  {
   "cell_type": "markdown",
   "id": "931bb8dc",
   "metadata": {},
   "source": [
    "### Group Extraction\n",
    "The \"group\" feature of a regular expression allows you to pick out parts of the matching text. Suppose for the emails problem that we want to extract the username and host separately. To do this, add parenthesis () around the username and host in the pattern, like this: `r'([\\w.-]+)@([\\w.-]+)'`. \n",
    "\n",
    "In this case, the parenthesis do not change what the pattern will match, instead they establish logical \"groups\" inside of the match text. On a successful search, `match.group(1)` is the match text corresponding to the 1st left parenthesis, and `match.group(2)` is the text corresponding to the 2nd left parenthesis. The plain `match.group()` is still the whole match text as usual."
   ]
  },
  {
   "cell_type": "code",
   "execution_count": 20,
   "id": "912d101a",
   "metadata": {},
   "outputs": [
    {
     "name": "stdout",
     "output_type": "stream",
     "text": [
      "nlp.shwet@gmail.com\n",
      "nlp.shwet\n",
      "gmail.com\n"
     ]
    }
   ],
   "source": [
    "str ='my email is nlp.shwet@gmail.com, and company mail is hello@visionnlp.com'\n",
    "match = re.search('([\\w.-]+)@([\\w.-]+)', str)\n",
    "if match:\n",
    "    print(match.group())   ## 'nlp.shweta@gmail.com' (the whole match)\n",
    "    print(match.group(1))  ## 'nlp.shwet' (the username, group 1)\n",
    "    print(match.group(2))  ## 'gmail.com' (the host, group 2)"
   ]
  },
  {
   "cell_type": "markdown",
   "id": "7d9dcf49",
   "metadata": {},
   "source": [
    "# Findall\n",
    "`findall()` is probably the single most powerful function in the re module. Above we used `re.search()` to find the first match for a pattern. `findall()` finds all the matches and returns them as a list of strings, with each string representing one match."
   ]
  },
  {
   "cell_type": "code",
   "execution_count": 21,
   "id": "a24f39a2",
   "metadata": {},
   "outputs": [
    {
     "data": {
      "text/plain": [
       "['90', '10', '60']"
      ]
     },
     "execution_count": 21,
     "metadata": {},
     "output_type": "execute_result"
    }
   ],
   "source": [
    "text = '''1. I got 90% marks in nlp assignment. I lost 10 because of regex.\n",
    "\n",
    "another student got 60%'''\n",
    "\n",
    "pat = r'(?:\\d\\d)'\n",
    "match = re.findall(pat, text)\n",
    "match"
   ]
  },
  {
   "cell_type": "code",
   "execution_count": 22,
   "id": "073e3676",
   "metadata": {},
   "outputs": [],
   "source": [
    "text = ''' 54321 dhfjr 74821 teheoa 39836 Free zip archiver. Creates multi-volume archives. Supports encryption with the AES algorithm. Supports hardware acceleration. High compression. Requires a powerful PC to work with large files.\n",
    "WinRAR. Cheap archiver. Creates RAR and ZIP archives. Maximum path length is up to 2048 characters. Ability to add text comments to archives. Maximum file size is up to 16 exabytes.\n",
    "PeaZip. Free file extractor. Multilingual UI. 36376 High compression speed, the years is 2022. \n",
    "\n",
    "Supports multi-volume archives. Based on AES 256 encryption. 67635 Doesn’t fully support UTF-8 encoding.\n",
    "The Unarchiver. Best WinZip alternative. Supports old formats (StuffIt and DiskDoubler) Opens fi'''"
   ]
  },
  {
   "cell_type": "code",
   "execution_count": 30,
   "id": "e9999917",
   "metadata": {},
   "outputs": [
    {
     "data": {
      "text/plain": [
       "['54321', '74821', '39836', '36376', '67635']"
      ]
     },
     "execution_count": 30,
     "metadata": {},
     "output_type": "execute_result"
    }
   ],
   "source": [
    "pat = r'(?:\\d\\d\\d\\d\\d)'\n",
    "re.findall(pat, text)"
   ]
  },
  {
   "cell_type": "code",
   "execution_count": 25,
   "id": "118d50db",
   "metadata": {},
   "outputs": [
    {
     "data": {
      "text/plain": [
       "['nlp.shwet@gmail.com', 'hello@visionnlp.com']"
      ]
     },
     "execution_count": 25,
     "metadata": {},
     "output_type": "execute_result"
    }
   ],
   "source": [
    "## Suppose we have a text with many email addresses\n",
    "str = 'my email is nlp.shwet@gmail.com, and company mail is hello@visionnlp.com'\n",
    "\n",
    "## Here re.findall() returns a list of all the found email strings\n",
    "emails = re.findall(r'[\\w\\.-]+@[\\w\\.-]+', str) ## ['nlp.shwet@gmail.com, 'hello@visionnlp.com']\n",
    "emails"
   ]
  },
  {
   "cell_type": "code",
   "execution_count": 26,
   "id": "eda628b0",
   "metadata": {},
   "outputs": [
    {
     "name": "stdout",
     "output_type": "stream",
     "text": [
      "nlp.shwet@gmail.com\n",
      "hello@visionnlp.com\n"
     ]
    }
   ],
   "source": [
    "for email in emails:\n",
    "    # do something with each found email string\n",
    "    print(email)"
   ]
  },
  {
   "cell_type": "code",
   "execution_count": 27,
   "id": "9b9cb143",
   "metadata": {},
   "outputs": [
    {
     "name": "stdout",
     "output_type": "stream",
     "text": [
      "nlp.shwet\n",
      "gmail.com\n",
      "hello\n",
      "visionnlp.com\n"
     ]
    }
   ],
   "source": [
    "str = 'my email is nlp.shwet@gmail.com, and company mail is hello@visionnlp.com'\n",
    "\n",
    "tuples = re.findall(r'([\\w\\.-]+)@([\\w\\.-]+)', str)\n",
    "#print(tuples)\n",
    "\n",
    "for tuple in tuples:\n",
    "    print(tuple[0])\n",
    "    print(tuple[1])"
   ]
  },
  {
   "cell_type": "markdown",
   "id": "e5420c05",
   "metadata": {},
   "source": [
    "# sub"
   ]
  },
  {
   "cell_type": "code",
   "execution_count": 28,
   "id": "0244b4cc",
   "metadata": {},
   "outputs": [
    {
     "name": "stdout",
     "output_type": "stream",
     "text": [
      "my email is nlp.shwet@google.com, and company mail is hello@google.com,  xyz@google.com\n"
     ]
    }
   ],
   "source": [
    "str = 'my email is nlp.shwet@gmail.com, and company mail is hello@visionnlp.com,  xyz@abc.org'\n",
    "## re.sub(pat, replacement, str) -- returns new string with all replacements,\n",
    "## \\1 is group(1), \\2 group(2) in the replacement\n",
    "\n",
    "\n",
    "print(re.sub(r'([\\w\\.-]+)@([\\w\\.-]+)', r'\\1@google.com', str))"
   ]
  },
  {
   "cell_type": "code",
   "execution_count": 29,
   "id": "f1122e46",
   "metadata": {},
   "outputs": [
    {
     "data": {
      "text/plain": [
       "'my email is nlp.shwet@google.com, and company mail is hello@visionnlp.com,  xyz@abc.org'"
      ]
     },
     "execution_count": 29,
     "metadata": {},
     "output_type": "execute_result"
    }
   ],
   "source": [
    "str.replace('gmail.com', 'google.com')"
   ]
  },
  {
   "cell_type": "code",
   "execution_count": null,
   "id": "e3e0e0e7",
   "metadata": {},
   "outputs": [],
   "source": []
  }
 ],
 "metadata": {
  "kernelspec": {
   "display_name": "Python 3",
   "language": "python",
   "name": "python3"
  },
  "language_info": {
   "codemirror_mode": {
    "name": "ipython",
    "version": 3
   },
   "file_extension": ".py",
   "mimetype": "text/x-python",
   "name": "python",
   "nbconvert_exporter": "python",
   "pygments_lexer": "ipython3",
   "version": "3.8.8"
  }
 },
 "nbformat": 4,
 "nbformat_minor": 5
}
